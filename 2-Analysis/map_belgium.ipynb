{
 "cells": [
  {
   "attachments": {},
   "cell_type": "markdown",
   "metadata": {},
   "source": [
    "### Build a map, Using GEOPANDAS, to display the price per square meter in each city of belgium"
   ]
  },
  {
   "cell_type": "code",
   "execution_count": null,
   "metadata": {},
   "outputs": [],
   "source": [
    "import numpy as np\n",
    "import pandas as pd\n",
    "import seaborn as sns\n",
    "import seaborn.objects as so\n",
    "import matplotlib.pyplot as plt\n",
    "import geopandas as gpd\n",
    "import json\n",
    "from mpl_toolkits.axes_grid1 import make_axes_locatable"
   ]
  },
  {
   "attachments": {},
   "cell_type": "markdown",
   "metadata": {},
   "source": [
    "### Add column to geojson, price per sqm for each zipcode\n",
    "geojson file contain geometry related to each city and zip code"
   ]
  },
  {
   "cell_type": "code",
   "execution_count": null,
   "metadata": {},
   "outputs": [],
   "source": [
    "# Create a dictionary \"zipcode\":price_sqm_meter\n",
    "zip_pricesqm = pd.read_csv('./zip_price_sqm_meters.csv')\n",
    "print(zip_pricesqm.head())\n",
    "zip_pricesqm_dict = zip_pricesqm.set_index('zip_code')['price-sqm'].to_dict()\n",
    "\n",
    "# Add a property to each featue in the geojson file, named 'mean_price_sqm', according to the zipcode\n",
    "with open('./datas/georef-belgium-postal-codes.geojson') as f:\n",
    "    data = json.load(f)\n",
    "\n",
    "# Iterate over the features\n",
    "for feature in data['features']:\n",
    "    # Add the new column to the properties\n",
    "    _zip = int(feature['properties']['postcode'])\n",
    "    if _zip in zip_pricesqm_dict:\n",
    "        print(_zip, zip_pricesqm_dict.get(_zip))\n",
    "        feature['properties']['mean_price_sqm'] = zip_pricesqm_dict.get(_zip)\n",
    "    else:\n",
    "        feature['properties']['mean_price_sqm'] = 0\n",
    "\n",
    "# Write the modified GeoJSON file to disk\n",
    "with open('./datas/georef-belgium-postal-codes-mpsqm.geojson', 'w') as f:\n",
    "    json.dump(data, f)\n"
   ]
  },
  {
   "attachments": {},
   "cell_type": "markdown",
   "metadata": {},
   "source": [
    "### Test GeoPandas: display a map from geojson source file"
   ]
  },
  {
   "cell_type": "code",
   "execution_count": null,
   "metadata": {},
   "outputs": [],
   "source": [
    "filename = \"./datas/georef-belgium-postal-codes.geojson\"\n",
    "file = open(filename)\n",
    "fig, ax = plt.subplots(1,1)\n",
    "\n",
    "belgium_map_df = gpd.read_file(file)\n",
    "# belgium_map_df.tail()\n",
    "\n",
    "belgium_map_df.plot(ax=ax, cmap=\"GnBu\", legend=True)\n",
    "belgium_map_df.set_title = \"Belgium\"\n",
    "plt.show()\n",
    "plt.close()\n",
    "\n",
    "\n",
    "\n",
    "\n"
   ]
  },
  {
   "attachments": {},
   "cell_type": "markdown",
   "metadata": {},
   "source": [
    "###"
   ]
  },
  {
   "attachments": {},
   "cell_type": "markdown",
   "metadata": {},
   "source": [
    "### Display the map with the geojson where psqm was added\n",
    "issues with the size and position on the graph"
   ]
  },
  {
   "cell_type": "code",
   "execution_count": null,
   "metadata": {},
   "outputs": [],
   "source": [
    "\n",
    "filename = \"./datas/georef-belgium-postal-codes-mpsqm.geojson\"\n",
    "file = open(filename)\n",
    "belgium_map_df = gpd.read_file(file)\n",
    "\n",
    "fig, ax = plt.subplots(1,figsize=(80,80), facecolor='lightgray')\n",
    "# color bar\n",
    "divider = make_axes_locatable(ax)\n",
    "cax = divider.append_axes(\"bottom\", size=\"5%\", pad=0.1)\n",
    "vmax = belgium_map_df['mean_price_sqm'].max()\n",
    "mappable = plt.cm.ScalarMappable(cmap='Reds', norm=plt.Normalize(vmin=0, vmax=vmax))\n",
    "cbar = fig.colorbar(mappable, cax=cax, orientation=\"horizontal\", shrink=0.5)\n",
    "\n",
    "# Plot Map\n",
    "belgium_map_df.plot(kind=\"geo\",column='mean_price_sqm',\n",
    "                    ax=ax,\n",
    "                    cax=cax,\n",
    "                    cmap=\"Reds\",\n",
    "                    edgecolor='black',\n",
    "                    linewidth=1,\n",
    "                    )\n",
    "fig.set_size_inches(50,50)\n",
    "fig.suptitle(\"Mean price per zipcode in Belgium\\n Houses and Apartments\", fontsize=100, color='Black', y=1.2)\n",
    "cbar.set_label('Price per square meter €/m', fontsize=100)\n",
    "cbar.set_ticks(np.arange(0, vmax, 1000))\n",
    "cbar.ax.tick_params(labelsize=50)\n",
    "# plt.tick_params(left = False, bottom = False)\n",
    "\n",
    "\n",
    "plt.show()\n",
    "# ax.set_visible(False)\n"
   ]
  }
 ],
 "metadata": {
  "kernelspec": {
   "display_name": "Python 3",
   "language": "python",
   "name": "python3"
  },
  "language_info": {
   "codemirror_mode": {
    "name": "ipython",
    "version": 3
   },
   "file_extension": ".py",
   "mimetype": "text/x-python",
   "name": "python",
   "nbconvert_exporter": "python",
   "pygments_lexer": "ipython3",
   "version": "3.10.1"
  },
  "orig_nbformat": 4,
  "vscode": {
   "interpreter": {
    "hash": "369f2c481f4da34e4445cda3fffd2e751bd1c4d706f27375911949ba6bb62e1c"
   }
  }
 },
 "nbformat": 4,
 "nbformat_minor": 2
}
