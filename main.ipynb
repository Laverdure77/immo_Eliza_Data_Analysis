{
 "cells": [
  {
   "cell_type": "code",
   "execution_count": null,
   "metadata": {},
   "outputs": [],
   "source": []
  },
  {
   "cell_type": "code",
   "execution_count": 1,
   "metadata": {},
   "outputs": [],
   "source": [
    "import numpy as np\n",
    "import pandas as pd\n",
    "#_____________________________________________________________________________\n",
    "\n",
    "from scripts.colors import bcolors as bc"
   ]
  },
  {
   "cell_type": "code",
   "execution_count": 2,
   "metadata": {},
   "outputs": [
    {
     "data": {
      "text/html": [
       "<div>\n",
       "<style scoped>\n",
       "    .dataframe tbody tr th:only-of-type {\n",
       "        vertical-align: middle;\n",
       "    }\n",
       "\n",
       "    .dataframe tbody tr th {\n",
       "        vertical-align: top;\n",
       "    }\n",
       "\n",
       "    .dataframe thead th {\n",
       "        text-align: right;\n",
       "    }\n",
       "</style>\n",
       "<table border=\"1\" class=\"dataframe\">\n",
       "  <thead>\n",
       "    <tr style=\"text-align: right;\">\n",
       "      <th></th>\n",
       "      <th>Id</th>\n",
       "      <th>Locality</th>\n",
       "      <th>House or appartment?</th>\n",
       "      <th>Subtype</th>\n",
       "      <th>Price</th>\n",
       "      <th>Type of sale</th>\n",
       "      <th>Number of rooms</th>\n",
       "      <th>Living area</th>\n",
       "      <th>Fully equipped kitchen</th>\n",
       "      <th>Furnished</th>\n",
       "      <th>Open fire</th>\n",
       "      <th>Terrace</th>\n",
       "      <th>Area of terrace</th>\n",
       "      <th>Garden</th>\n",
       "      <th>Area of garden</th>\n",
       "      <th>Land surface</th>\n",
       "      <th>Number of facades</th>\n",
       "      <th>Swimming pool</th>\n",
       "      <th>State of building</th>\n",
       "    </tr>\n",
       "  </thead>\n",
       "  <tbody>\n",
       "    <tr>\n",
       "      <th>0</th>\n",
       "      <td>10233388</td>\n",
       "      <td>Uccle</td>\n",
       "      <td>HOUSE</td>\n",
       "      <td>HOUSE</td>\n",
       "      <td>1295000.0</td>\n",
       "      <td>BUY_REGULAR</td>\n",
       "      <td>4.0</td>\n",
       "      <td>290.0</td>\n",
       "      <td>1</td>\n",
       "      <td>None</td>\n",
       "      <td>0</td>\n",
       "      <td>1</td>\n",
       "      <td>15</td>\n",
       "      <td>None</td>\n",
       "      <td>None</td>\n",
       "      <td>230</td>\n",
       "      <td>2</td>\n",
       "      <td>0</td>\n",
       "      <td>GOOD</td>\n",
       "    </tr>\n",
       "    <tr>\n",
       "      <th>1</th>\n",
       "      <td>10311296</td>\n",
       "      <td>Woluwe-Saint-Pierre</td>\n",
       "      <td>APARTMENT</td>\n",
       "      <td>APARTMENT</td>\n",
       "      <td>150000.0</td>\n",
       "      <td>PUBLIC_SALE</td>\n",
       "      <td>2.0</td>\n",
       "      <td>65.0</td>\n",
       "      <td>0</td>\n",
       "      <td>None</td>\n",
       "      <td>0</td>\n",
       "      <td>1</td>\n",
       "      <td>None</td>\n",
       "      <td>None</td>\n",
       "      <td>None</td>\n",
       "      <td>None</td>\n",
       "      <td>None</td>\n",
       "      <td>None</td>\n",
       "      <td>None</td>\n",
       "    </tr>\n",
       "    <tr>\n",
       "      <th>2</th>\n",
       "      <td>10310451</td>\n",
       "      <td>Anderlecht</td>\n",
       "      <td>APARTMENT</td>\n",
       "      <td>APARTMENT</td>\n",
       "      <td>357500.0</td>\n",
       "      <td>BUY_REGULAR</td>\n",
       "      <td>3.0</td>\n",
       "      <td>119.0</td>\n",
       "      <td>0</td>\n",
       "      <td>None</td>\n",
       "      <td>0</td>\n",
       "      <td>1</td>\n",
       "      <td>16</td>\n",
       "      <td>None</td>\n",
       "      <td>None</td>\n",
       "      <td>None</td>\n",
       "      <td>4</td>\n",
       "      <td>None</td>\n",
       "      <td>NaN</td>\n",
       "    </tr>\n",
       "    <tr>\n",
       "      <th>3</th>\n",
       "      <td>10309870</td>\n",
       "      <td>Uccle</td>\n",
       "      <td>APARTMENT</td>\n",
       "      <td>APARTMENT</td>\n",
       "      <td>295000.0</td>\n",
       "      <td>BUY_REGULAR</td>\n",
       "      <td>2.0</td>\n",
       "      <td>140.0</td>\n",
       "      <td>0</td>\n",
       "      <td>None</td>\n",
       "      <td>0</td>\n",
       "      <td>None</td>\n",
       "      <td>None</td>\n",
       "      <td>None</td>\n",
       "      <td>None</td>\n",
       "      <td>None</td>\n",
       "      <td>2</td>\n",
       "      <td>None</td>\n",
       "      <td>TO_BE_DONE_UP</td>\n",
       "    </tr>\n",
       "    <tr>\n",
       "      <th>4</th>\n",
       "      <td>10309546</td>\n",
       "      <td>Uccle</td>\n",
       "      <td>APARTMENT</td>\n",
       "      <td>APARTMENT</td>\n",
       "      <td>199000.0</td>\n",
       "      <td>BUY_REGULAR</td>\n",
       "      <td>1.0</td>\n",
       "      <td>61.0</td>\n",
       "      <td>0</td>\n",
       "      <td>None</td>\n",
       "      <td>0</td>\n",
       "      <td>1</td>\n",
       "      <td>2</td>\n",
       "      <td>None</td>\n",
       "      <td>None</td>\n",
       "      <td>None</td>\n",
       "      <td>2</td>\n",
       "      <td>None</td>\n",
       "      <td>NaN</td>\n",
       "    </tr>\n",
       "  </tbody>\n",
       "</table>\n",
       "</div>"
      ],
      "text/plain": [
       "         Id             Locality House or appartment?    Subtype      Price  \\\n",
       "0  10233388                Uccle                HOUSE      HOUSE  1295000.0   \n",
       "1  10311296  Woluwe-Saint-Pierre            APARTMENT  APARTMENT   150000.0   \n",
       "2  10310451           Anderlecht            APARTMENT  APARTMENT   357500.0   \n",
       "3  10309870                Uccle            APARTMENT  APARTMENT   295000.0   \n",
       "4  10309546                Uccle            APARTMENT  APARTMENT   199000.0   \n",
       "\n",
       "  Type of sale  Number of rooms  Living area Fully equipped kitchen Furnished  \\\n",
       "0  BUY_REGULAR              4.0        290.0                      1      None   \n",
       "1  PUBLIC_SALE              2.0         65.0                      0      None   \n",
       "2  BUY_REGULAR              3.0        119.0                      0      None   \n",
       "3  BUY_REGULAR              2.0        140.0                      0      None   \n",
       "4  BUY_REGULAR              1.0         61.0                      0      None   \n",
       "\n",
       "   Open fire Terrace Area of terrace Garden Area of garden Land surface  \\\n",
       "0          0       1              15   None           None          230   \n",
       "1          0       1            None   None           None         None   \n",
       "2          0       1              16   None           None         None   \n",
       "3          0    None            None   None           None         None   \n",
       "4          0       1               2   None           None         None   \n",
       "\n",
       "  Number of facades Swimming pool State of building  \n",
       "0                 2             0              GOOD  \n",
       "1              None          None              None  \n",
       "2                 4          None               NaN  \n",
       "3                 2          None     TO_BE_DONE_UP  \n",
       "4                 2          None               NaN  "
      ]
     },
     "execution_count": 2,
     "metadata": {},
     "output_type": "execute_result"
    }
   ],
   "source": [
    "file = './datas/Immoweb_data_ok_maite.csv'\n",
    "data = pd.read_csv(file)\n",
    "data.head()"
   ]
  },
  {
   "attachments": {},
   "cell_type": "markdown",
   "metadata": {},
   "source": [
    "1. Check for duplicated rows in the df"
   ]
  },
  {
   "cell_type": "code",
   "execution_count": null,
   "metadata": {},
   "outputs": [],
   "source": [
    "data.duplicated()\n",
    "\n",
    "# data_duplicated = data[data.duplicated(subset='Id') == True]\n",
    "# data_duplicated.head(15)\n"
   ]
  },
  {
   "attachments": {},
   "cell_type": "markdown",
   "metadata": {},
   "source": [
    "2. Remove data from apartment_group and house_group"
   ]
  },
  {
   "cell_type": "code",
   "execution_count": 28,
   "metadata": {},
   "outputs": [],
   "source": [
    "data[data['House or appartment?'] == 'APARTMENT_GROUP'].count()\n",
    "data.drop(data[data['House or appartment?'] == 'APARTMENT_GROUP'].index, inplace=True)\n",
    "data[data['House or appartment?'] == 'HOUSE_GROUP'].count()\n",
    "data.drop(data[data['House or appartment?'] == 'HOUSE_GROUP'].index, inplace=True)\n"
   ]
  },
  {
   "cell_type": "code",
   "execution_count": 29,
   "metadata": {},
   "outputs": [
    {
     "data": {
      "text/plain": [
       "array(['HOUSE', 'APARTMENT'], dtype=object)"
      ]
     },
     "execution_count": 29,
     "metadata": {},
     "output_type": "execute_result"
    }
   ],
   "source": [
    "data['House or appartment?'].unique()"
   ]
  },
  {
   "attachments": {},
   "cell_type": "markdown",
   "metadata": {},
   "source": [
    "3. Check subtype"
   ]
  },
  {
   "cell_type": "code",
   "execution_count": null,
   "metadata": {},
   "outputs": [],
   "source": [
    "data[data['subtype'] == 'APARTMENT_GROUP'].count()\n",
    "data.drop(data[data['subtype'] == 'APARTMENT_GROUP'].index, inplace=True)\n",
    "data[data['subtype'] == 'HOUSE_GROUP'].count()\n",
    "data.drop(data[data['subtype'] == 'HOUSE_GROUP'].index, inplace=True)\n"
   ]
  },
  {
   "cell_type": "code",
   "execution_count": 50,
   "metadata": {},
   "outputs": [
    {
     "ename": "SyntaxError",
     "evalue": "invalid syntax (3198066364.py, line 2)",
     "output_type": "error",
     "traceback": [
      "\u001b[1;36m  Cell \u001b[1;32mIn[50], line 2\u001b[1;36m\u001b[0m\n\u001b[1;33m    data['Number of rooms'].describe()?\u001b[0m\n\u001b[1;37m                                      ^\u001b[0m\n\u001b[1;31mSyntaxError\u001b[0m\u001b[1;31m:\u001b[0m invalid syntax\n"
     ]
    }
   ],
   "source": [
    "data['Number of rooms'].unique()\n",
    "data['Number of rooms'].describe()?"
   ]
  }
 ],
 "metadata": {
  "kernelspec": {
   "display_name": "Python 3",
   "language": "python",
   "name": "python3"
  },
  "language_info": {
   "codemirror_mode": {
    "name": "ipython",
    "version": 3
   },
   "file_extension": ".py",
   "mimetype": "text/x-python",
   "name": "python",
   "nbconvert_exporter": "python",
   "pygments_lexer": "ipython3",
   "version": "3.11.0"
  },
  "orig_nbformat": 4,
  "vscode": {
   "interpreter": {
    "hash": "c261aea317cc0286b3b3261fbba9abdec21eaa57589985bb7a274bf54d6cc0a7"
   }
  }
 },
 "nbformat": 4,
 "nbformat_minor": 2
}
