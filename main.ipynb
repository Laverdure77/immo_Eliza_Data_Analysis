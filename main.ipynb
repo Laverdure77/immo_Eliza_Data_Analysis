{
 "cells": [
  {
   "attachments": {},
   "cell_type": "markdown",
   "metadata": {},
   "source": [
    "#### Checklist\n",
    "##### Cleaning\n",
    "- [] check unique values for each columns  \n",
    "- [] remove oulier (percentile)  \n",
    "- [] remove unused columns  \n",
    "- [] check empty, none, nan values, white spaces (regex)  \n",
    "\n",
    "##### Additional datas\n",
    "- [] add province and zip code (external csv datas)  \n",
    "\n",
    "\n",
    "#### Questions\n",
    "\n",
    "- percentage of houses by provinces within a budget  \n",
    "- price per sq meters by price  \n",
    "- graph heatmap over belgium (price/sqmeter)  \n"
   ]
  },
  {
   "cell_type": "code",
   "execution_count": null,
   "metadata": {},
   "outputs": [],
   "source": [
    "import numpy as np\n",
    "import pandas as pd\n",
    "import seaborn as sns\n",
    "import seaborn.objects as so\n",
    "import matplotlib.pyplot as plt\n",
    "# import geopandas as gpd\n"
   ]
  },
  {
   "cell_type": "code",
   "execution_count": null,
   "metadata": {},
   "outputs": [],
   "source": [
    "file = './datas/Immoweb_data_ok_maite.csv'\n",
    "data = pd.read_csv(file)\n",
    "data.head(5)"
   ]
  },
  {
   "attachments": {},
   "cell_type": "markdown",
   "metadata": {},
   "source": [
    "1. Check for duplicated rows in the df"
   ]
  },
  {
   "cell_type": "code",
   "execution_count": null,
   "metadata": {},
   "outputs": [],
   "source": [
    "data.duplicated()\n",
    "data.isnull().sum()"
   ]
  },
  {
   "attachments": {},
   "cell_type": "markdown",
   "metadata": {},
   "source": [
    "### Cleaning data\n",
    "\n"
   ]
  },
  {
   "attachments": {},
   "cell_type": "markdown",
   "metadata": {},
   "source": [
    "1. Replace 'none' values with pd.NA\n",
    "2. Remove rows where the price is missing"
   ]
  },
  {
   "cell_type": "code",
   "execution_count": null,
   "metadata": {},
   "outputs": [],
   "source": [
    "data.replace(np.NaN,'None', inplace=True)\n",
    "data.replace('None', pd.NA, inplace=True)\n",
    "data.head()\n",
    "# Remove rows where Price is not present\n",
    "data = data.drop(data[data['Price'].isna()].index)\n",
    "data.shape[0]\n"
   ]
  },
  {
   "attachments": {},
   "cell_type": "markdown",
   "metadata": {},
   "source": [
    "3. Remove data from apartment_group and house_group"
   ]
  },
  {
   "cell_type": "code",
   "execution_count": null,
   "metadata": {},
   "outputs": [],
   "source": [
    "data[data['House or appartment?'] == 'APARTMENT_GROUP'].count()\n",
    "data.drop(data[data['House or appartment?'] == 'APARTMENT_GROUP'].index, inplace=True)\n",
    "data[data['House or appartment?'] == 'HOUSE_GROUP'].count()\n",
    "data.drop(data[data['House or appartment?'] == 'HOUSE_GROUP'].index, inplace=True)\n",
    "\n",
    "data['House or appartment?'].unique()\n"
   ]
  },
  {
   "attachments": {},
   "cell_type": "markdown",
   "metadata": {},
   "source": [
    "4. Check subtype: remove all unnecessary subtypes.  \n",
    "Only keep Houses and Apartment subtype for the analysis (abandonned)"
   ]
  },
  {
   "cell_type": "code",
   "execution_count": null,
   "metadata": {},
   "outputs": [],
   "source": [
    "# # Define array with the value of Subtype to keep.\n",
    "# array = [\"HOUSE\", \"APARTMENT\"]\n",
    "# # Drop all rows where subtype is not in the array\n",
    "# data.drop(data.loc[~data['Subtype'].isin(array)].index, inplace=True)\n",
    "\n",
    "data['Subtype'].unique()\n",
    "\n"
   ]
  },
  {
   "attachments": {},
   "cell_type": "markdown",
   "metadata": {},
   "source": [
    "### Add new columns\n",
    "    -price sq meter"
   ]
  },
  {
   "cell_type": "code",
   "execution_count": null,
   "metadata": {},
   "outputs": [],
   "source": [
    "# Remove rows where Living area is missing\n",
    "data.drop((data[data['Living area'].isna()].index), inplace=True)\n",
    "# Check if no more rows with missing 'Living area'\n",
    "data['Living area'].isna().sum()\n",
    "\n",
    "# Creat new column with price per square meter\n",
    "data['price_square_meters'] = (data['Price'] / data['Living area'])\n",
    "# Make sure the data type of the new column is numeric\n",
    "data['price_square_meters'] = (pd.to_numeric(data['price_square_meters'], errors='coerce')).round(2)\n",
    "\n",
    "data['price_square_meters'].info()\n"
   ]
  },
  {
   "attachments": {},
   "cell_type": "markdown",
   "metadata": {},
   "source": [
    "### Correlation : practice"
   ]
  },
  {
   "cell_type": "code",
   "execution_count": null,
   "metadata": {},
   "outputs": [],
   "source": [
    "sns.set_theme(style=\"white\")\n",
    "corr = data.corr()\n",
    "\n",
    "# Generate a mask for the upper triangle\n",
    "mask = np.triu(np.ones_like(corr, dtype=bool))\n",
    "\n",
    "# Set up the matplotlib figure\n",
    "f, ax = plt.subplots(figsize=(11, 9))\n",
    "\n",
    "# Generate a custom diverging colormap\n",
    "cmap = sns.diverging_palette(230, 20, as_cmap=True)\n",
    "\n",
    "# Draw the heatmap with the mask and correct aspect ratio\n",
    "sns.heatmap(corr, mask=mask, cmap=cmap, vmax=.3, center=0,\n",
    "            square=True, linewidths=.5, cbar_kws={\"shrink\": .5}, annot=True)"
   ]
  },
  {
   "attachments": {},
   "cell_type": "markdown",
   "metadata": {},
   "source": [
    "### Remove outliers from Price and price_square_meters"
   ]
  },
  {
   "cell_type": "code",
   "execution_count": null,
   "metadata": {},
   "outputs": [],
   "source": [
    "\n",
    "q1_price , q3_price = data['Price'].quantile([0.25,0.75])\n",
    "iqr_price = q3_price - q1_price\n",
    "q1_pricesqm , q3_pricesqm = data['price_square_meters'].quantile([0.25,0.75])\n",
    "iqr_pricesqm = q3_pricesqm - q1_pricesqm\n",
    "\n",
    "iqr_coef = 1\n",
    "data = data[(data['Price'] > (q1_price - iqr_coef*iqr_price)) & (data['Price'] < ((q3_price + iqr_coef*iqr_price)))]\n",
    "data = data[(data['price_square_meters'] > (q1_pricesqm - iqr_coef*iqr_pricesqm)) & (data['price_square_meters'] < ((q3_pricesqm + iqr_coef*iqr_pricesqm)))]\n",
    "\n",
    "# g_price = sns.regplot(x='Price', y='price_square_meters',  data=data)\n",
    "\n",
    "plt.show()\n"
   ]
  },
  {
   "attachments": {},
   "cell_type": "markdown",
   "metadata": {},
   "source": [
    "### Lm Plot Price per sqm versus Price, using SeaBorn"
   ]
  },
  {
   "cell_type": "code",
   "execution_count": null,
   "metadata": {},
   "outputs": [],
   "source": [
    "data['price_square_meters'] = data['price_square_meters'].astype(float)\n",
    "data['Price'] = data['Price'].astype(float)\n",
    "sns.set_context('talk')\n",
    "\n",
    "# Graph\n",
    "g_price_linearreg = sns.lmplot(x='Price', y='price_square_meters',hue='Subtype',hue_order=['HOUSE','APARTMENT'], data=data, line_kws={'alpha':1},scatter_kws={'alpha':0.1}, height=12)\n",
    "\n",
    "# Tile and labels\n",
    "g_price_linearreg.fig.suptitle('Price per square meter related to the price,\\n over Belgium', y=1.05, size=24 )\n",
    "g_price_linearreg.set_ylabels('Price per square meter, €/m²')\n",
    "g_price_linearreg.set_xlabels('Price, €')\n",
    "\n",
    "plt.show()\n",
    "\n"
   ]
  }
 ],
 "metadata": {
  "kernelspec": {
   "display_name": "Python 3",
   "language": "python",
   "name": "python3"
  },
  "language_info": {
   "codemirror_mode": {
    "name": "ipython",
    "version": 3
   },
   "file_extension": ".py",
   "mimetype": "text/x-python",
   "name": "python",
   "nbconvert_exporter": "python",
   "pygments_lexer": "ipython3",
   "version": "3.10.1"
  },
  "orig_nbformat": 4,
  "vscode": {
   "interpreter": {
    "hash": "369f2c481f4da34e4445cda3fffd2e751bd1c4d706f27375911949ba6bb62e1c"
   }
  }
 },
 "nbformat": 4,
 "nbformat_minor": 2
}
