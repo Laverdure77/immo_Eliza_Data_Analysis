{
 "cells": [
  {
   "attachments": {},
   "cell_type": "markdown",
   "metadata": {},
   "source": [
    "#### Checklist\n",
    "##### Cleaning\n",
    "- [] check unique values for each columns  \n",
    "- [] remove oulier (percentile)  \n",
    "- [] remove unused columns  \n",
    "- [] check empty, none, nan values, white spaces (regex)  \n",
    "\n",
    "##### Additional datas\n",
    "- [] add province and zip code (external csv datas)  \n",
    "\n",
    "\n",
    "#### Questions\n",
    "\n",
    "- percentage of houses by provinces within a budget  \n",
    "- price per sq meters by price  \n",
    "- \n",
    "- graph heatmap over belgium (price/sqmeter)  \n"
   ]
  },
  {
   "cell_type": "code",
   "execution_count": 192,
   "metadata": {},
   "outputs": [],
   "source": [
    "import numpy as np\n",
    "import pandas as pd\n",
    "import seaborn as sns\n",
    "import seaborn.objects as so\n",
    "import matplotlib.pyplot as plt\n",
    "#_____________________________________________________________________________\n",
    "\n",
    "from scripts.colors import bcolors as bc"
   ]
  },
  {
   "cell_type": "code",
   "execution_count": 179,
   "metadata": {},
   "outputs": [
    {
     "data": {
      "text/html": [
       "<div>\n",
       "<style scoped>\n",
       "    .dataframe tbody tr th:only-of-type {\n",
       "        vertical-align: middle;\n",
       "    }\n",
       "\n",
       "    .dataframe tbody tr th {\n",
       "        vertical-align: top;\n",
       "    }\n",
       "\n",
       "    .dataframe thead th {\n",
       "        text-align: right;\n",
       "    }\n",
       "</style>\n",
       "<table border=\"1\" class=\"dataframe\">\n",
       "  <thead>\n",
       "    <tr style=\"text-align: right;\">\n",
       "      <th></th>\n",
       "      <th>Id</th>\n",
       "      <th>Locality</th>\n",
       "      <th>House or appartment?</th>\n",
       "      <th>Subtype</th>\n",
       "      <th>Price</th>\n",
       "      <th>Type of sale</th>\n",
       "      <th>Number of rooms</th>\n",
       "      <th>Living area</th>\n",
       "      <th>Fully equipped kitchen</th>\n",
       "      <th>Furnished</th>\n",
       "      <th>Open fire</th>\n",
       "      <th>Terrace</th>\n",
       "      <th>Area of terrace</th>\n",
       "      <th>Garden</th>\n",
       "      <th>Area of garden</th>\n",
       "      <th>Land surface</th>\n",
       "      <th>Number of facades</th>\n",
       "      <th>Swimming pool</th>\n",
       "      <th>State of building</th>\n",
       "    </tr>\n",
       "  </thead>\n",
       "  <tbody>\n",
       "    <tr>\n",
       "      <th>0</th>\n",
       "      <td>10233388</td>\n",
       "      <td>Uccle</td>\n",
       "      <td>HOUSE</td>\n",
       "      <td>HOUSE</td>\n",
       "      <td>1295000.0</td>\n",
       "      <td>BUY_REGULAR</td>\n",
       "      <td>4.0</td>\n",
       "      <td>290.0</td>\n",
       "      <td>1</td>\n",
       "      <td>None</td>\n",
       "      <td>0</td>\n",
       "      <td>1</td>\n",
       "      <td>15</td>\n",
       "      <td>None</td>\n",
       "      <td>None</td>\n",
       "      <td>230</td>\n",
       "      <td>2</td>\n",
       "      <td>0</td>\n",
       "      <td>GOOD</td>\n",
       "    </tr>\n",
       "    <tr>\n",
       "      <th>1</th>\n",
       "      <td>10311296</td>\n",
       "      <td>Woluwe-Saint-Pierre</td>\n",
       "      <td>APARTMENT</td>\n",
       "      <td>APARTMENT</td>\n",
       "      <td>150000.0</td>\n",
       "      <td>PUBLIC_SALE</td>\n",
       "      <td>2.0</td>\n",
       "      <td>65.0</td>\n",
       "      <td>0</td>\n",
       "      <td>None</td>\n",
       "      <td>0</td>\n",
       "      <td>1</td>\n",
       "      <td>None</td>\n",
       "      <td>None</td>\n",
       "      <td>None</td>\n",
       "      <td>None</td>\n",
       "      <td>None</td>\n",
       "      <td>None</td>\n",
       "      <td>None</td>\n",
       "    </tr>\n",
       "    <tr>\n",
       "      <th>2</th>\n",
       "      <td>10310451</td>\n",
       "      <td>Anderlecht</td>\n",
       "      <td>APARTMENT</td>\n",
       "      <td>APARTMENT</td>\n",
       "      <td>357500.0</td>\n",
       "      <td>BUY_REGULAR</td>\n",
       "      <td>3.0</td>\n",
       "      <td>119.0</td>\n",
       "      <td>0</td>\n",
       "      <td>None</td>\n",
       "      <td>0</td>\n",
       "      <td>1</td>\n",
       "      <td>16</td>\n",
       "      <td>None</td>\n",
       "      <td>None</td>\n",
       "      <td>None</td>\n",
       "      <td>4</td>\n",
       "      <td>None</td>\n",
       "      <td>NaN</td>\n",
       "    </tr>\n",
       "    <tr>\n",
       "      <th>3</th>\n",
       "      <td>10309870</td>\n",
       "      <td>Uccle</td>\n",
       "      <td>APARTMENT</td>\n",
       "      <td>APARTMENT</td>\n",
       "      <td>295000.0</td>\n",
       "      <td>BUY_REGULAR</td>\n",
       "      <td>2.0</td>\n",
       "      <td>140.0</td>\n",
       "      <td>0</td>\n",
       "      <td>None</td>\n",
       "      <td>0</td>\n",
       "      <td>None</td>\n",
       "      <td>None</td>\n",
       "      <td>None</td>\n",
       "      <td>None</td>\n",
       "      <td>None</td>\n",
       "      <td>2</td>\n",
       "      <td>None</td>\n",
       "      <td>TO_BE_DONE_UP</td>\n",
       "    </tr>\n",
       "    <tr>\n",
       "      <th>4</th>\n",
       "      <td>10309546</td>\n",
       "      <td>Uccle</td>\n",
       "      <td>APARTMENT</td>\n",
       "      <td>APARTMENT</td>\n",
       "      <td>199000.0</td>\n",
       "      <td>BUY_REGULAR</td>\n",
       "      <td>1.0</td>\n",
       "      <td>61.0</td>\n",
       "      <td>0</td>\n",
       "      <td>None</td>\n",
       "      <td>0</td>\n",
       "      <td>1</td>\n",
       "      <td>2</td>\n",
       "      <td>None</td>\n",
       "      <td>None</td>\n",
       "      <td>None</td>\n",
       "      <td>2</td>\n",
       "      <td>None</td>\n",
       "      <td>NaN</td>\n",
       "    </tr>\n",
       "  </tbody>\n",
       "</table>\n",
       "</div>"
      ],
      "text/plain": [
       "         Id             Locality House or appartment?    Subtype      Price  \\\n",
       "0  10233388                Uccle                HOUSE      HOUSE  1295000.0   \n",
       "1  10311296  Woluwe-Saint-Pierre            APARTMENT  APARTMENT   150000.0   \n",
       "2  10310451           Anderlecht            APARTMENT  APARTMENT   357500.0   \n",
       "3  10309870                Uccle            APARTMENT  APARTMENT   295000.0   \n",
       "4  10309546                Uccle            APARTMENT  APARTMENT   199000.0   \n",
       "\n",
       "  Type of sale  Number of rooms  Living area Fully equipped kitchen Furnished  \\\n",
       "0  BUY_REGULAR              4.0        290.0                      1      None   \n",
       "1  PUBLIC_SALE              2.0         65.0                      0      None   \n",
       "2  BUY_REGULAR              3.0        119.0                      0      None   \n",
       "3  BUY_REGULAR              2.0        140.0                      0      None   \n",
       "4  BUY_REGULAR              1.0         61.0                      0      None   \n",
       "\n",
       "   Open fire Terrace Area of terrace Garden Area of garden Land surface  \\\n",
       "0          0       1              15   None           None          230   \n",
       "1          0       1            None   None           None         None   \n",
       "2          0       1              16   None           None         None   \n",
       "3          0    None            None   None           None         None   \n",
       "4          0       1               2   None           None         None   \n",
       "\n",
       "  Number of facades Swimming pool State of building  \n",
       "0                 2             0              GOOD  \n",
       "1              None          None              None  \n",
       "2                 4          None               NaN  \n",
       "3                 2          None     TO_BE_DONE_UP  \n",
       "4                 2          None               NaN  "
      ]
     },
     "execution_count": 179,
     "metadata": {},
     "output_type": "execute_result"
    }
   ],
   "source": [
    "file = './datas/Immoweb_data_ok_maite.csv'\n",
    "data = pd.read_csv(file)\n",
    "data.head()"
   ]
  },
  {
   "attachments": {},
   "cell_type": "markdown",
   "metadata": {},
   "source": [
    "1. Check for duplicated rows in the df"
   ]
  },
  {
   "cell_type": "code",
   "execution_count": 180,
   "metadata": {},
   "outputs": [
    {
     "data": {
      "text/plain": [
       "Id                           0\n",
       "Locality                     0\n",
       "House or appartment?         0\n",
       "Subtype                      0\n",
       "Price                     7106\n",
       "Type of sale                 0\n",
       "Number of rooms            116\n",
       "Living area               3235\n",
       "Fully equipped kitchen       0\n",
       "Furnished                    0\n",
       "Open fire                    0\n",
       "Terrace                      0\n",
       "Area of terrace              0\n",
       "Garden                       0\n",
       "Area of garden               0\n",
       "Land surface              4424\n",
       "Number of facades         6696\n",
       "Swimming pool                0\n",
       "State of building         7343\n",
       "dtype: int64"
      ]
     },
     "execution_count": 180,
     "metadata": {},
     "output_type": "execute_result"
    }
   ],
   "source": [
    "data.duplicated()\n",
    "\n",
    "# data_duplicated = data[data.duplicated(subset='Id') == True]\n",
    "# data_duplicated.head(15)\n",
    "data.isnull().sum()"
   ]
  },
  {
   "attachments": {},
   "cell_type": "markdown",
   "metadata": {},
   "source": [
    "### Cleaning data\n",
    "\n"
   ]
  },
  {
   "cell_type": "code",
   "execution_count": 181,
   "metadata": {},
   "outputs": [
    {
     "data": {
      "text/plain": [
       "16280"
      ]
     },
     "execution_count": 181,
     "metadata": {},
     "output_type": "execute_result"
    }
   ],
   "source": [
    "data.replace(np.NaN,'None', inplace=True)\n",
    "data.replace('None', pd.NA, inplace=True)\n",
    "data.head()\n",
    "data = data.drop(data[data['Price'].isna()].index)\n",
    "data.shape[0]\n",
    "# data.head()\n",
    "# data.drop_duplicates('Id')\n",
    "# data.duplicated().value_counts()"
   ]
  },
  {
   "attachments": {},
   "cell_type": "markdown",
   "metadata": {},
   "source": [
    "2. Remove data from apartment_group and house_group"
   ]
  },
  {
   "cell_type": "code",
   "execution_count": 182,
   "metadata": {},
   "outputs": [],
   "source": [
    "data[data['House or appartment?'] == 'APARTMENT_GROUP'].count()\n",
    "data.drop(data[data['House or appartment?'] == 'APARTMENT_GROUP'].index, inplace=True)\n",
    "data[data['House or appartment?'] == 'HOUSE_GROUP'].count()\n",
    "data.drop(data[data['House or appartment?'] == 'HOUSE_GROUP'].index, inplace=True)\n"
   ]
  },
  {
   "cell_type": "code",
   "execution_count": 183,
   "metadata": {},
   "outputs": [
    {
     "data": {
      "text/plain": [
       "array(['HOUSE', 'APARTMENT'], dtype=object)"
      ]
     },
     "execution_count": 183,
     "metadata": {},
     "output_type": "execute_result"
    }
   ],
   "source": [
    "data['House or appartment?'].unique()"
   ]
  },
  {
   "attachments": {},
   "cell_type": "markdown",
   "metadata": {},
   "source": [
    "3. Check subtype"
   ]
  },
  {
   "cell_type": "code",
   "execution_count": 184,
   "metadata": {},
   "outputs": [],
   "source": [
    "data[data['Subtype'] == 'APARTMENT_GROUP'].count()\n",
    "data.drop(data[data['Subtype'] == 'APARTMENT_GROUP'].index, inplace=True)\n",
    "data[data['Subtype'] == 'HOUSE_GROUP'].count()\n",
    "data.drop(data[data['Subtype'] == 'HOUSE_GROUP'].index, inplace=True)\n"
   ]
  },
  {
   "cell_type": "code",
   "execution_count": 185,
   "metadata": {},
   "outputs": [
    {
     "data": {
      "text/plain": [
       "count     16280.0\n",
       "unique       28.0\n",
       "top           2.0\n",
       "freq       5251.0\n",
       "Name: Number of rooms, dtype: float64"
      ]
     },
     "execution_count": 185,
     "metadata": {},
     "output_type": "execute_result"
    }
   ],
   "source": [
    "data['Number of rooms'].unique()\n",
    "data['Number of rooms'].describe([.7,.8,.9,.99])"
   ]
  },
  {
   "attachments": {},
   "cell_type": "markdown",
   "metadata": {},
   "source": [
    "### Add new columns\n",
    "    -price sq meter"
   ]
  },
  {
   "cell_type": "code",
   "execution_count": 199,
   "metadata": {},
   "outputs": [
    {
     "data": {
      "text/html": [
       "<div>\n",
       "<style scoped>\n",
       "    .dataframe tbody tr th:only-of-type {\n",
       "        vertical-align: middle;\n",
       "    }\n",
       "\n",
       "    .dataframe tbody tr th {\n",
       "        vertical-align: top;\n",
       "    }\n",
       "\n",
       "    .dataframe thead th {\n",
       "        text-align: right;\n",
       "    }\n",
       "</style>\n",
       "<table border=\"1\" class=\"dataframe\">\n",
       "  <thead>\n",
       "    <tr style=\"text-align: right;\">\n",
       "      <th></th>\n",
       "      <th>Id</th>\n",
       "      <th>Locality</th>\n",
       "      <th>House or appartment?</th>\n",
       "      <th>Subtype</th>\n",
       "      <th>Price</th>\n",
       "      <th>Type of sale</th>\n",
       "      <th>Number of rooms</th>\n",
       "      <th>Living area</th>\n",
       "      <th>Fully equipped kitchen</th>\n",
       "      <th>Furnished</th>\n",
       "      <th>Open fire</th>\n",
       "      <th>Terrace</th>\n",
       "      <th>Area of terrace</th>\n",
       "      <th>Garden</th>\n",
       "      <th>Area of garden</th>\n",
       "      <th>Land surface</th>\n",
       "      <th>Number of facades</th>\n",
       "      <th>Swimming pool</th>\n",
       "      <th>State of building</th>\n",
       "      <th>price_square_meters</th>\n",
       "    </tr>\n",
       "  </thead>\n",
       "  <tbody>\n",
       "    <tr>\n",
       "      <th>0</th>\n",
       "      <td>10233388</td>\n",
       "      <td>Uccle</td>\n",
       "      <td>HOUSE</td>\n",
       "      <td>HOUSE</td>\n",
       "      <td>1295000.0</td>\n",
       "      <td>BUY_REGULAR</td>\n",
       "      <td>4.0</td>\n",
       "      <td>290.0</td>\n",
       "      <td>1</td>\n",
       "      <td>&lt;NA&gt;</td>\n",
       "      <td>0</td>\n",
       "      <td>1</td>\n",
       "      <td>15</td>\n",
       "      <td>&lt;NA&gt;</td>\n",
       "      <td>&lt;NA&gt;</td>\n",
       "      <td>230</td>\n",
       "      <td>2</td>\n",
       "      <td>0</td>\n",
       "      <td>GOOD</td>\n",
       "      <td>4465.517241</td>\n",
       "    </tr>\n",
       "    <tr>\n",
       "      <th>1</th>\n",
       "      <td>10311296</td>\n",
       "      <td>Woluwe-Saint-Pierre</td>\n",
       "      <td>APARTMENT</td>\n",
       "      <td>APARTMENT</td>\n",
       "      <td>150000.0</td>\n",
       "      <td>PUBLIC_SALE</td>\n",
       "      <td>2.0</td>\n",
       "      <td>65.0</td>\n",
       "      <td>0</td>\n",
       "      <td>&lt;NA&gt;</td>\n",
       "      <td>0</td>\n",
       "      <td>1</td>\n",
       "      <td>&lt;NA&gt;</td>\n",
       "      <td>&lt;NA&gt;</td>\n",
       "      <td>&lt;NA&gt;</td>\n",
       "      <td>&lt;NA&gt;</td>\n",
       "      <td>&lt;NA&gt;</td>\n",
       "      <td>&lt;NA&gt;</td>\n",
       "      <td>&lt;NA&gt;</td>\n",
       "      <td>2307.692308</td>\n",
       "    </tr>\n",
       "    <tr>\n",
       "      <th>2</th>\n",
       "      <td>10310451</td>\n",
       "      <td>Anderlecht</td>\n",
       "      <td>APARTMENT</td>\n",
       "      <td>APARTMENT</td>\n",
       "      <td>357500.0</td>\n",
       "      <td>BUY_REGULAR</td>\n",
       "      <td>3.0</td>\n",
       "      <td>119.0</td>\n",
       "      <td>0</td>\n",
       "      <td>&lt;NA&gt;</td>\n",
       "      <td>0</td>\n",
       "      <td>1</td>\n",
       "      <td>16</td>\n",
       "      <td>&lt;NA&gt;</td>\n",
       "      <td>&lt;NA&gt;</td>\n",
       "      <td>&lt;NA&gt;</td>\n",
       "      <td>4</td>\n",
       "      <td>&lt;NA&gt;</td>\n",
       "      <td>&lt;NA&gt;</td>\n",
       "      <td>3004.201681</td>\n",
       "    </tr>\n",
       "    <tr>\n",
       "      <th>3</th>\n",
       "      <td>10309870</td>\n",
       "      <td>Uccle</td>\n",
       "      <td>APARTMENT</td>\n",
       "      <td>APARTMENT</td>\n",
       "      <td>295000.0</td>\n",
       "      <td>BUY_REGULAR</td>\n",
       "      <td>2.0</td>\n",
       "      <td>140.0</td>\n",
       "      <td>0</td>\n",
       "      <td>&lt;NA&gt;</td>\n",
       "      <td>0</td>\n",
       "      <td>&lt;NA&gt;</td>\n",
       "      <td>&lt;NA&gt;</td>\n",
       "      <td>&lt;NA&gt;</td>\n",
       "      <td>&lt;NA&gt;</td>\n",
       "      <td>&lt;NA&gt;</td>\n",
       "      <td>2</td>\n",
       "      <td>&lt;NA&gt;</td>\n",
       "      <td>TO_BE_DONE_UP</td>\n",
       "      <td>2107.142857</td>\n",
       "    </tr>\n",
       "    <tr>\n",
       "      <th>4</th>\n",
       "      <td>10309546</td>\n",
       "      <td>Uccle</td>\n",
       "      <td>APARTMENT</td>\n",
       "      <td>APARTMENT</td>\n",
       "      <td>199000.0</td>\n",
       "      <td>BUY_REGULAR</td>\n",
       "      <td>1.0</td>\n",
       "      <td>61.0</td>\n",
       "      <td>0</td>\n",
       "      <td>&lt;NA&gt;</td>\n",
       "      <td>0</td>\n",
       "      <td>1</td>\n",
       "      <td>2</td>\n",
       "      <td>&lt;NA&gt;</td>\n",
       "      <td>&lt;NA&gt;</td>\n",
       "      <td>&lt;NA&gt;</td>\n",
       "      <td>2</td>\n",
       "      <td>&lt;NA&gt;</td>\n",
       "      <td>&lt;NA&gt;</td>\n",
       "      <td>3262.295082</td>\n",
       "    </tr>\n",
       "  </tbody>\n",
       "</table>\n",
       "</div>"
      ],
      "text/plain": [
       "         Id             Locality House or appartment?    Subtype      Price  \\\n",
       "0  10233388                Uccle                HOUSE      HOUSE  1295000.0   \n",
       "1  10311296  Woluwe-Saint-Pierre            APARTMENT  APARTMENT   150000.0   \n",
       "2  10310451           Anderlecht            APARTMENT  APARTMENT   357500.0   \n",
       "3  10309870                Uccle            APARTMENT  APARTMENT   295000.0   \n",
       "4  10309546                Uccle            APARTMENT  APARTMENT   199000.0   \n",
       "\n",
       "  Type of sale Number of rooms Living area Fully equipped kitchen Furnished  \\\n",
       "0  BUY_REGULAR             4.0       290.0                      1      <NA>   \n",
       "1  PUBLIC_SALE             2.0        65.0                      0      <NA>   \n",
       "2  BUY_REGULAR             3.0       119.0                      0      <NA>   \n",
       "3  BUY_REGULAR             2.0       140.0                      0      <NA>   \n",
       "4  BUY_REGULAR             1.0        61.0                      0      <NA>   \n",
       "\n",
       "   Open fire Terrace Area of terrace Garden Area of garden Land surface  \\\n",
       "0          0       1              15   <NA>           <NA>          230   \n",
       "1          0       1            <NA>   <NA>           <NA>         <NA>   \n",
       "2          0       1              16   <NA>           <NA>         <NA>   \n",
       "3          0    <NA>            <NA>   <NA>           <NA>         <NA>   \n",
       "4          0       1               2   <NA>           <NA>         <NA>   \n",
       "\n",
       "  Number of facades Swimming pool State of building price_square_meters  \n",
       "0                 2             0              GOOD         4465.517241  \n",
       "1              <NA>          <NA>              <NA>         2307.692308  \n",
       "2                 4          <NA>              <NA>         3004.201681  \n",
       "3                 2          <NA>     TO_BE_DONE_UP         2107.142857  \n",
       "4                 2          <NA>              <NA>         3262.295082  "
      ]
     },
     "execution_count": 199,
     "metadata": {},
     "output_type": "execute_result"
    }
   ],
   "source": [
    "data['price_square_meters'] = (data['Price'] / data['Living area'])\n",
    "# data = data.drop(data['price_square_meters'].isna().index)\n",
    "# # data.drop(data[data['price_square_meters'].isnull()].index)\n",
    "# # data['price_square_meters'].round(2)\n",
    "data.head()\n",
    "# data.head()"
   ]
  },
  {
   "cell_type": "code",
   "execution_count": null,
   "metadata": {},
   "outputs": [],
   "source": []
  },
  {
   "cell_type": "code",
   "execution_count": 222,
   "metadata": {},
   "outputs": [
    {
     "ename": "UFuncTypeError",
     "evalue": "Cannot cast ufunc 'svd_n_s' input from dtype('O') to dtype('float64') with casting rule 'same_kind'",
     "output_type": "error",
     "traceback": [
      "\u001b[1;31m---------------------------------------------------------------------------\u001b[0m",
      "\u001b[1;31mUFuncTypeError\u001b[0m                            Traceback (most recent call last)",
      "Cell \u001b[1;32mIn[222], line 12\u001b[0m\n\u001b[0;32m      9\u001b[0m data \u001b[39m=\u001b[39m data[(data[\u001b[39m'\u001b[39m\u001b[39mprice_square_meters\u001b[39m\u001b[39m'\u001b[39m] \u001b[39m>\u001b[39m (q1 \u001b[39m-\u001b[39m \u001b[39m1.5\u001b[39m\u001b[39m*\u001b[39miqr)) \u001b[39m&\u001b[39m (data[\u001b[39m'\u001b[39m\u001b[39mPrice\u001b[39m\u001b[39m'\u001b[39m] \u001b[39m<\u001b[39m ((q3 \u001b[39m+\u001b[39m \u001b[39m1.5\u001b[39m\u001b[39m*\u001b[39miqr)))]\n\u001b[0;32m     10\u001b[0m \u001b[39m# data['Living area'].dtypes\u001b[39;00m\n\u001b[0;32m     11\u001b[0m \u001b[39m# data['price_square_meters'].dtypes\u001b[39;00m\n\u001b[1;32m---> 12\u001b[0m sns\u001b[39m.\u001b[39;49mlmplot(x\u001b[39m=\u001b[39;49m\u001b[39m\"\u001b[39;49m\u001b[39mprice_square_meters\u001b[39;49m\u001b[39m\"\u001b[39;49m, y\u001b[39m=\u001b[39;49m\u001b[39m'\u001b[39;49m\u001b[39mPrice\u001b[39;49m\u001b[39m'\u001b[39;49m, data\u001b[39m=\u001b[39;49mdata)\n\u001b[0;32m     13\u001b[0m plt\u001b[39m.\u001b[39maxis([\u001b[39m0\u001b[39m, \u001b[39m6\u001b[39m, \u001b[39m0\u001b[39m, \u001b[39m20\u001b[39m])\n",
      "File \u001b[1;32mc:\\Python310\\lib\\site-packages\\seaborn\\regression.py:635\u001b[0m, in \u001b[0;36mlmplot\u001b[1;34m(data, x, y, hue, col, row, palette, col_wrap, height, aspect, markers, sharex, sharey, hue_order, col_order, row_order, legend, legend_out, x_estimator, x_bins, x_ci, scatter, fit_reg, ci, n_boot, units, seed, order, logistic, lowess, robust, logx, x_partial, y_partial, truncate, x_jitter, y_jitter, scatter_kws, line_kws, facet_kws)\u001b[0m\n\u001b[0;32m    626\u001b[0m \u001b[39m# Draw the regression plot on each facet\u001b[39;00m\n\u001b[0;32m    627\u001b[0m regplot_kws \u001b[39m=\u001b[39m \u001b[39mdict\u001b[39m(\n\u001b[0;32m    628\u001b[0m     x_estimator\u001b[39m=\u001b[39mx_estimator, x_bins\u001b[39m=\u001b[39mx_bins, x_ci\u001b[39m=\u001b[39mx_ci,\n\u001b[0;32m    629\u001b[0m     scatter\u001b[39m=\u001b[39mscatter, fit_reg\u001b[39m=\u001b[39mfit_reg, ci\u001b[39m=\u001b[39mci, n_boot\u001b[39m=\u001b[39mn_boot, units\u001b[39m=\u001b[39munits,\n\u001b[1;32m   (...)\u001b[0m\n\u001b[0;32m    633\u001b[0m     scatter_kws\u001b[39m=\u001b[39mscatter_kws, line_kws\u001b[39m=\u001b[39mline_kws,\n\u001b[0;32m    634\u001b[0m )\n\u001b[1;32m--> 635\u001b[0m facets\u001b[39m.\u001b[39mmap_dataframe(regplot, x\u001b[39m=\u001b[39mx, y\u001b[39m=\u001b[39my, \u001b[39m*\u001b[39m\u001b[39m*\u001b[39mregplot_kws)\n\u001b[0;32m    636\u001b[0m facets\u001b[39m.\u001b[39mset_axis_labels(x, y)\n\u001b[0;32m    638\u001b[0m \u001b[39m# Add a legend\u001b[39;00m\n",
      "File \u001b[1;32mc:\\Python310\\lib\\site-packages\\seaborn\\axisgrid.py:819\u001b[0m, in \u001b[0;36mFacetGrid.map_dataframe\u001b[1;34m(self, func, *args, **kwargs)\u001b[0m\n\u001b[0;32m    816\u001b[0m     kwargs[\u001b[39m\"\u001b[39m\u001b[39mdata\u001b[39m\u001b[39m\"\u001b[39m] \u001b[39m=\u001b[39m data_ijk\n\u001b[0;32m    818\u001b[0m     \u001b[39m# Draw the plot\u001b[39;00m\n\u001b[1;32m--> 819\u001b[0m     \u001b[39mself\u001b[39;49m\u001b[39m.\u001b[39;49m_facet_plot(func, ax, args, kwargs)\n\u001b[0;32m    821\u001b[0m \u001b[39m# For axis labels, prefer to use positional args for backcompat\u001b[39;00m\n\u001b[0;32m    822\u001b[0m \u001b[39m# but also extract the x/y kwargs and use if no corresponding arg\u001b[39;00m\n\u001b[0;32m    823\u001b[0m axis_labels \u001b[39m=\u001b[39m [kwargs\u001b[39m.\u001b[39mget(\u001b[39m\"\u001b[39m\u001b[39mx\u001b[39m\u001b[39m\"\u001b[39m, \u001b[39mNone\u001b[39;00m), kwargs\u001b[39m.\u001b[39mget(\u001b[39m\"\u001b[39m\u001b[39my\u001b[39m\u001b[39m\"\u001b[39m, \u001b[39mNone\u001b[39;00m)]\n",
      "File \u001b[1;32mc:\\Python310\\lib\\site-packages\\seaborn\\axisgrid.py:848\u001b[0m, in \u001b[0;36mFacetGrid._facet_plot\u001b[1;34m(self, func, ax, plot_args, plot_kwargs)\u001b[0m\n\u001b[0;32m    846\u001b[0m     plot_args \u001b[39m=\u001b[39m []\n\u001b[0;32m    847\u001b[0m     plot_kwargs[\u001b[39m\"\u001b[39m\u001b[39max\u001b[39m\u001b[39m\"\u001b[39m] \u001b[39m=\u001b[39m ax\n\u001b[1;32m--> 848\u001b[0m func(\u001b[39m*\u001b[39mplot_args, \u001b[39m*\u001b[39m\u001b[39m*\u001b[39mplot_kwargs)\n\u001b[0;32m    850\u001b[0m \u001b[39m# Sort out the supporting information\u001b[39;00m\n\u001b[0;32m    851\u001b[0m \u001b[39mself\u001b[39m\u001b[39m.\u001b[39m_update_legend_data(ax)\n",
      "File \u001b[1;32mc:\\Python310\\lib\\site-packages\\seaborn\\regression.py:759\u001b[0m, in \u001b[0;36mregplot\u001b[1;34m(data, x, y, x_estimator, x_bins, x_ci, scatter, fit_reg, ci, n_boot, units, seed, order, logistic, lowess, robust, logx, x_partial, y_partial, truncate, dropna, x_jitter, y_jitter, label, color, marker, scatter_kws, line_kws, ax)\u001b[0m\n\u001b[0;32m    757\u001b[0m scatter_kws[\u001b[39m\"\u001b[39m\u001b[39mmarker\u001b[39m\u001b[39m\"\u001b[39m] \u001b[39m=\u001b[39m marker\n\u001b[0;32m    758\u001b[0m line_kws \u001b[39m=\u001b[39m {} \u001b[39mif\u001b[39;00m line_kws \u001b[39mis\u001b[39;00m \u001b[39mNone\u001b[39;00m \u001b[39melse\u001b[39;00m copy\u001b[39m.\u001b[39mcopy(line_kws)\n\u001b[1;32m--> 759\u001b[0m plotter\u001b[39m.\u001b[39;49mplot(ax, scatter_kws, line_kws)\n\u001b[0;32m    760\u001b[0m \u001b[39mreturn\u001b[39;00m ax\n",
      "File \u001b[1;32mc:\\Python310\\lib\\site-packages\\seaborn\\regression.py:368\u001b[0m, in \u001b[0;36m_RegressionPlotter.plot\u001b[1;34m(self, ax, scatter_kws, line_kws)\u001b[0m\n\u001b[0;32m    365\u001b[0m     \u001b[39mself\u001b[39m\u001b[39m.\u001b[39mscatterplot(ax, scatter_kws)\n\u001b[0;32m    367\u001b[0m \u001b[39mif\u001b[39;00m \u001b[39mself\u001b[39m\u001b[39m.\u001b[39mfit_reg:\n\u001b[1;32m--> 368\u001b[0m     \u001b[39mself\u001b[39;49m\u001b[39m.\u001b[39;49mlineplot(ax, line_kws)\n\u001b[0;32m    370\u001b[0m \u001b[39m# Label the axes\u001b[39;00m\n\u001b[0;32m    371\u001b[0m \u001b[39mif\u001b[39;00m \u001b[39mhasattr\u001b[39m(\u001b[39mself\u001b[39m\u001b[39m.\u001b[39mx, \u001b[39m\"\u001b[39m\u001b[39mname\u001b[39m\u001b[39m\"\u001b[39m):\n",
      "File \u001b[1;32mc:\\Python310\\lib\\site-packages\\seaborn\\regression.py:413\u001b[0m, in \u001b[0;36m_RegressionPlotter.lineplot\u001b[1;34m(self, ax, kws)\u001b[0m\n\u001b[0;32m    411\u001b[0m \u001b[39m\"\"\"Draw the model.\"\"\"\u001b[39;00m\n\u001b[0;32m    412\u001b[0m \u001b[39m# Fit the regression model\u001b[39;00m\n\u001b[1;32m--> 413\u001b[0m grid, yhat, err_bands \u001b[39m=\u001b[39m \u001b[39mself\u001b[39;49m\u001b[39m.\u001b[39;49mfit_regression(ax)\n\u001b[0;32m    414\u001b[0m edges \u001b[39m=\u001b[39m grid[\u001b[39m0\u001b[39m], grid[\u001b[39m-\u001b[39m\u001b[39m1\u001b[39m]\n\u001b[0;32m    416\u001b[0m \u001b[39m# Get set default aesthetics\u001b[39;00m\n",
      "File \u001b[1;32mc:\\Python310\\lib\\site-packages\\seaborn\\regression.py:219\u001b[0m, in \u001b[0;36m_RegressionPlotter.fit_regression\u001b[1;34m(self, ax, x_range, grid)\u001b[0m\n\u001b[0;32m    217\u001b[0m     yhat, yhat_boots \u001b[39m=\u001b[39m \u001b[39mself\u001b[39m\u001b[39m.\u001b[39mfit_logx(grid)\n\u001b[0;32m    218\u001b[0m \u001b[39melse\u001b[39;00m:\n\u001b[1;32m--> 219\u001b[0m     yhat, yhat_boots \u001b[39m=\u001b[39m \u001b[39mself\u001b[39;49m\u001b[39m.\u001b[39;49mfit_fast(grid)\n\u001b[0;32m    221\u001b[0m \u001b[39m# Compute the confidence interval at each grid point\u001b[39;00m\n\u001b[0;32m    222\u001b[0m \u001b[39mif\u001b[39;00m ci \u001b[39mis\u001b[39;00m \u001b[39mNone\u001b[39;00m:\n",
      "File \u001b[1;32mc:\\Python310\\lib\\site-packages\\seaborn\\regression.py:236\u001b[0m, in \u001b[0;36m_RegressionPlotter.fit_fast\u001b[1;34m(self, grid)\u001b[0m\n\u001b[0;32m    234\u001b[0m X, y \u001b[39m=\u001b[39m np\u001b[39m.\u001b[39mc_[np\u001b[39m.\u001b[39mones(\u001b[39mlen\u001b[39m(\u001b[39mself\u001b[39m\u001b[39m.\u001b[39mx)), \u001b[39mself\u001b[39m\u001b[39m.\u001b[39mx], \u001b[39mself\u001b[39m\u001b[39m.\u001b[39my\n\u001b[0;32m    235\u001b[0m grid \u001b[39m=\u001b[39m np\u001b[39m.\u001b[39mc_[np\u001b[39m.\u001b[39mones(\u001b[39mlen\u001b[39m(grid)), grid]\n\u001b[1;32m--> 236\u001b[0m yhat \u001b[39m=\u001b[39m grid\u001b[39m.\u001b[39mdot(reg_func(X, y))\n\u001b[0;32m    237\u001b[0m \u001b[39mif\u001b[39;00m \u001b[39mself\u001b[39m\u001b[39m.\u001b[39mci \u001b[39mis\u001b[39;00m \u001b[39mNone\u001b[39;00m:\n\u001b[0;32m    238\u001b[0m     \u001b[39mreturn\u001b[39;00m yhat, \u001b[39mNone\u001b[39;00m\n",
      "File \u001b[1;32mc:\\Python310\\lib\\site-packages\\seaborn\\regression.py:232\u001b[0m, in \u001b[0;36m_RegressionPlotter.fit_fast.<locals>.reg_func\u001b[1;34m(_x, _y)\u001b[0m\n\u001b[0;32m    231\u001b[0m \u001b[39mdef\u001b[39;00m \u001b[39mreg_func\u001b[39m(_x, _y):\n\u001b[1;32m--> 232\u001b[0m     \u001b[39mreturn\u001b[39;00m np\u001b[39m.\u001b[39;49mlinalg\u001b[39m.\u001b[39;49mpinv(_x)\u001b[39m.\u001b[39mdot(_y)\n",
      "File \u001b[1;32m<__array_function__ internals>:180\u001b[0m, in \u001b[0;36mpinv\u001b[1;34m(*args, **kwargs)\u001b[0m\n",
      "File \u001b[1;32mc:\\Python310\\lib\\site-packages\\numpy\\linalg\\linalg.py:1998\u001b[0m, in \u001b[0;36mpinv\u001b[1;34m(a, rcond, hermitian)\u001b[0m\n\u001b[0;32m   1996\u001b[0m     \u001b[39mreturn\u001b[39;00m wrap(res)\n\u001b[0;32m   1997\u001b[0m a \u001b[39m=\u001b[39m a\u001b[39m.\u001b[39mconjugate()\n\u001b[1;32m-> 1998\u001b[0m u, s, vt \u001b[39m=\u001b[39m svd(a, full_matrices\u001b[39m=\u001b[39;49m\u001b[39mFalse\u001b[39;49;00m, hermitian\u001b[39m=\u001b[39;49mhermitian)\n\u001b[0;32m   2000\u001b[0m \u001b[39m# discard small singular values\u001b[39;00m\n\u001b[0;32m   2001\u001b[0m cutoff \u001b[39m=\u001b[39m rcond[\u001b[39m.\u001b[39m\u001b[39m.\u001b[39m\u001b[39m.\u001b[39m, newaxis] \u001b[39m*\u001b[39m amax(s, axis\u001b[39m=\u001b[39m\u001b[39m-\u001b[39m\u001b[39m1\u001b[39m, keepdims\u001b[39m=\u001b[39m\u001b[39mTrue\u001b[39;00m)\n",
      "File \u001b[1;32m<__array_function__ internals>:180\u001b[0m, in \u001b[0;36msvd\u001b[1;34m(*args, **kwargs)\u001b[0m\n",
      "File \u001b[1;32mc:\\Python310\\lib\\site-packages\\numpy\\linalg\\linalg.py:1657\u001b[0m, in \u001b[0;36msvd\u001b[1;34m(a, full_matrices, compute_uv, hermitian)\u001b[0m\n\u001b[0;32m   1654\u001b[0m         gufunc \u001b[39m=\u001b[39m _umath_linalg\u001b[39m.\u001b[39msvd_n_s\n\u001b[0;32m   1656\u001b[0m signature \u001b[39m=\u001b[39m \u001b[39m'\u001b[39m\u001b[39mD->DdD\u001b[39m\u001b[39m'\u001b[39m \u001b[39mif\u001b[39;00m isComplexType(t) \u001b[39melse\u001b[39;00m \u001b[39m'\u001b[39m\u001b[39md->ddd\u001b[39m\u001b[39m'\u001b[39m\n\u001b[1;32m-> 1657\u001b[0m u, s, vh \u001b[39m=\u001b[39m gufunc(a, signature\u001b[39m=\u001b[39;49msignature, extobj\u001b[39m=\u001b[39;49mextobj)\n\u001b[0;32m   1658\u001b[0m u \u001b[39m=\u001b[39m u\u001b[39m.\u001b[39mastype(result_t, copy\u001b[39m=\u001b[39m\u001b[39mFalse\u001b[39;00m)\n\u001b[0;32m   1659\u001b[0m s \u001b[39m=\u001b[39m s\u001b[39m.\u001b[39mastype(_realType(result_t), copy\u001b[39m=\u001b[39m\u001b[39mFalse\u001b[39;00m)\n",
      "\u001b[1;31mUFuncTypeError\u001b[0m: Cannot cast ufunc 'svd_n_s' input from dtype('O') to dtype('float64') with casting rule 'same_kind'"
     ]
    },
    {
     "data": {
      "image/png": "[encoded data removed]",
      "text/plain": [
       "<Figure size 500x500 with 1 Axes>"
      ]
     },
     "metadata": {},
     "output_type": "display_data"
    }
   ],
   "source": [
    "data = data.drop(data[data['Living area'].isna()].index)\n",
    "data = data.drop(data[data['price_square_meters'].isna()].index)\n",
    "# data['price_square_meters'].isnull().sum()\n",
    "q1 , q3 = data['Price'].quantile([0.25,0.75])\n",
    "iqr = q3 - q1\n",
    "# print(q1,q3)\n",
    "\n",
    "data = data[(data['Price'] > (q1 - 1.5*iqr)) & (data['Price'] < ((q3 + 1.5*iqr)))]\n",
    "data = data[(data['price_square_meters'] > (q1 - 1.5*iqr)) & (data['Price'] < ((q3 + 1.5*iqr)))]\n",
    "# data['Living area'].dtypes\n",
    "# data['price_square_meters'].dtypes\n",
    "sns.lmplot(x=\"price_square_meters\", y='Price', data=data)\n",
    "sns.axis()\n",
    "\n",
    "\n"
   ]
  },
  {
   "attachments": {},
   "cell_type": "markdown",
   "metadata": {},
   "source": [
    "### Check price, remove outliers"
   ]
  },
  {
   "cell_type": "code",
   "execution_count": 187,
   "metadata": {},
   "outputs": [
    {
     "name": "stdout",
     "output_type": "stream",
     "text": [
      "239950.0 450000.0\n"
     ]
    },
    {
     "data": {
      "text/html": [
       "<div>\n",
       "<style scoped>\n",
       "    .dataframe tbody tr th:only-of-type {\n",
       "        vertical-align: middle;\n",
       "    }\n",
       "\n",
       "    .dataframe tbody tr th {\n",
       "        vertical-align: top;\n",
       "    }\n",
       "\n",
       "    .dataframe thead th {\n",
       "        text-align: right;\n",
       "    }\n",
       "</style>\n",
       "<table border=\"1\" class=\"dataframe\">\n",
       "  <thead>\n",
       "    <tr style=\"text-align: right;\">\n",
       "      <th></th>\n",
       "      <th>Id</th>\n",
       "      <th>Open fire</th>\n",
       "    </tr>\n",
       "  </thead>\n",
       "  <tbody>\n",
       "    <tr>\n",
       "      <th>count</th>\n",
       "      <td>1.495700e+04</td>\n",
       "      <td>14957.000000</td>\n",
       "    </tr>\n",
       "    <tr>\n",
       "      <th>mean</th>\n",
       "      <td>1.010086e+07</td>\n",
       "      <td>0.039446</td>\n",
       "    </tr>\n",
       "    <tr>\n",
       "      <th>std</th>\n",
       "      <td>3.651118e+05</td>\n",
       "      <td>0.194661</td>\n",
       "    </tr>\n",
       "    <tr>\n",
       "      <th>min</th>\n",
       "      <td>1.882546e+06</td>\n",
       "      <td>0.000000</td>\n",
       "    </tr>\n",
       "    <tr>\n",
       "      <th>25%</th>\n",
       "      <td>1.009175e+07</td>\n",
       "      <td>0.000000</td>\n",
       "    </tr>\n",
       "    <tr>\n",
       "      <th>50%</th>\n",
       "      <td>1.023038e+07</td>\n",
       "      <td>0.000000</td>\n",
       "    </tr>\n",
       "    <tr>\n",
       "      <th>75%</th>\n",
       "      <td>1.028632e+07</td>\n",
       "      <td>0.000000</td>\n",
       "    </tr>\n",
       "    <tr>\n",
       "      <th>max</th>\n",
       "      <td>1.031627e+07</td>\n",
       "      <td>1.000000</td>\n",
       "    </tr>\n",
       "  </tbody>\n",
       "</table>\n",
       "</div>"
      ],
      "text/plain": [
       "                 Id     Open fire\n",
       "count  1.495700e+04  14957.000000\n",
       "mean   1.010086e+07      0.039446\n",
       "std    3.651118e+05      0.194661\n",
       "min    1.882546e+06      0.000000\n",
       "25%    1.009175e+07      0.000000\n",
       "50%    1.023038e+07      0.000000\n",
       "75%    1.028632e+07      0.000000\n",
       "max    1.031627e+07      1.000000"
      ]
     },
     "execution_count": 187,
     "metadata": {},
     "output_type": "execute_result"
    }
   ],
   "source": [
    "data['Price'].describe()\n",
    "data['Price'].shape[0]\n",
    "q1 , q3 = data['Price'].quantile([0.25,0.75])\n",
    "iqr = q3 - q1\n",
    "print(q1,q3)\n",
    "\n",
    "data_Price = data[(data['Price'] > (q1 - 1.5*iqr)) & (data['Price'] < ((q3 + 1.5*iqr)))]\n",
    "data_Price.shape[0]\n",
    "\n",
    "data_Price.describe()\n"
   ]
  },
  {
   "attachments": {},
   "cell_type": "markdown",
   "metadata": {},
   "source": [
    "#### Remove empty values, "
   ]
  },
  {
   "cell_type": "code",
   "execution_count": 188,
   "metadata": {},
   "outputs": [
    {
     "name": "stderr",
     "output_type": "stream",
     "text": [
      "C:\\Users\\meule\\AppData\\Local\\Temp\\ipykernel_7196\\3914038560.py:1: SettingWithCopyWarning: \n",
      "A value is trying to be set on a copy of a slice from a DataFrame.\n",
      "Try using .loc[row_indexer,col_indexer] = value instead\n",
      "\n",
      "See the caveats in the documentation: https://pandas.pydata.org/pandas-docs/stable/user_guide/indexing.html#returning-a-view-versus-a-copy\n",
      "  data_Price.loc[:,'square_meter_price'] = data_Price.loc[:,'Price'] / data_Price.loc[:,'Living area']\n"
     ]
    },
    {
     "data": {
      "text/plain": [
       "Id                         int64\n",
       "Locality                  object\n",
       "House or appartment?      object\n",
       "Subtype                   object\n",
       "Price                     object\n",
       "Type of sale              object\n",
       "Number of rooms           object\n",
       "Living area               object\n",
       "Fully equipped kitchen    object\n",
       "Furnished                 object\n",
       "Open fire                  int64\n",
       "Terrace                   object\n",
       "Area of terrace           object\n",
       "Garden                    object\n",
       "Area of garden            object\n",
       "Land surface              object\n",
       "Number of facades         object\n",
       "Swimming pool             object\n",
       "State of building         object\n",
       "price_square_meters       object\n",
       "square_meter_price        object\n",
       "dtype: object"
      ]
     },
     "execution_count": 188,
     "metadata": {},
     "output_type": "execute_result"
    }
   ],
   "source": [
    "\n",
    "data_Price.loc[:,'square_meter_price'] = data_Price.loc[:,'Price'] / data_Price.loc[:,'Living area']\n",
    "\n",
    "\n",
    "data_Price.dtypes\n"
   ]
  }
 ],
 "metadata": {
  "kernelspec": {
   "display_name": "Python 3",
   "language": "python",
   "name": "python3"
  },
  "language_info": {
   "codemirror_mode": {
    "name": "ipython",
    "version": 3
   },
   "file_extension": ".py",
   "mimetype": "text/x-python",
   "name": "python",
   "nbconvert_exporter": "python",
   "pygments_lexer": "ipython3",
   "version": "3.10.1"
  },
  "orig_nbformat": 4,
  "vscode": {
   "interpreter": {
    "hash": "369f2c481f4da34e4445cda3fffd2e751bd1c4d706f27375911949ba6bb62e1c"
   }
  }
 },
 "nbformat": 4,
 "nbformat_minor": 2
}
