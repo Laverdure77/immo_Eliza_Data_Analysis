{
 "cells": [
  {
   "attachments": {},
   "cell_type": "markdown",
   "metadata": {},
   "source": [
    "### Create a csv file: mean price per square meter for each zip code"
   ]
  },
  {
   "cell_type": "code",
   "execution_count": null,
   "metadata": {},
   "outputs": [],
   "source": [
    "import pandas as pd\n",
    "import numpy as np\n",
    "\n",
    "data = pd.read_csv(\"./datas/Immoweb_data_ok_maite.csv\")\n",
    "# zip_code_data = pd.read_csv(\"./datas/code-postaux-belge.csv\", sep=\";\")\n",
    "zip_code_data = pd.read_csv(\"./datas/Postal_codes.csv\", sep=\";\")\n",
    "\n",
    "zip_code_data['Localite'] = zip_code_data['Localite'].apply(str.lower)\n",
    "zip_code_data.head(5)"
   ]
  },
  {
   "cell_type": "code",
   "execution_count": null,
   "metadata": {},
   "outputs": [],
   "source": [
    "zip_code_data.head()"
   ]
  },
  {
   "attachments": {},
   "cell_type": "markdown",
   "metadata": {},
   "source": [
    "Create a dictionary containing zip code as value, and locality as keys"
   ]
  },
  {
   "cell_type": "code",
   "execution_count": null,
   "metadata": {},
   "outputs": [],
   "source": [
    "zip_code_dict = zip_code_data.set_index('Localite')['Code'].to_dict()\n",
    "# print(zip_code_dict)\n",
    "data['Locality'] = data['Locality'].apply(str.lower)\n",
    "data['zip_code'] = (data['Locality'].map(zip_code_dict))\n",
    "\n",
    "# Remove rows where zipcode is missing\n",
    "data = data.drop(data[data['zip_code'].isna()].index)\n",
    "data['zip_code'].dtype\n",
    "\n",
    "data.head()\n"
   ]
  },
  {
   "attachments": {},
   "cell_type": "markdown",
   "metadata": {},
   "source": [
    "#### Build a csv file "
   ]
  },
  {
   "cell_type": "code",
   "execution_count": null,
   "metadata": {},
   "outputs": [],
   "source": [
    "price_sqm_zipcode = data.groupby(by='zip_code').mean()\n",
    "price_sqm_zipcode['price-sqm'] = price_sqm_zipcode['Price'] / price_sqm_zipcode['Living area']\n",
    "filepath = '.datas/price_sqm_zipcode'\n",
    "# price_sqm_zipcode.drop(column=['Number of rooms', 'Open fire'])\n",
    "del price_sqm_zipcode['Number of rooms']\n",
    "del price_sqm_zipcode['Open fire']\n",
    "price_sqm_zipcode = price_sqm_zipcode.reset_index()\n",
    "price_sqm_zipcode.head()\n",
    "price_sqm_zipcode.to_csv('zip_price_sqm_meters.csv',index=False)"
   ]
  }
 ],
 "metadata": {
  "kernelspec": {
   "display_name": "Python 3",
   "language": "python",
   "name": "python3"
  },
  "language_info": {
   "codemirror_mode": {
    "name": "ipython",
    "version": 3
   },
   "file_extension": ".py",
   "mimetype": "text/x-python",
   "name": "python",
   "nbconvert_exporter": "python",
   "pygments_lexer": "ipython3",
   "version": "3.10.1 (tags/v3.10.1:2cd268a, Dec  6 2021, 19:10:37) [MSC v.1929 64 bit (AMD64)]"
  },
  "orig_nbformat": 4,
  "vscode": {
   "interpreter": {
    "hash": "369f2c481f4da34e4445cda3fffd2e751bd1c4d706f27375911949ba6bb62e1c"
   }
  }
 },
 "nbformat": 4,
 "nbformat_minor": 2
}
